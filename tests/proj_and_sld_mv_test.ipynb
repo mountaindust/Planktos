{
 "cells": [
  {
   "cell_type": "markdown",
   "id": "a90c59c7-85d0-4d57-a2ce-fc2b076583f3",
   "metadata": {},
   "source": [
    "## Test File for _project_and_slide_moving functionality"
   ]
  },
  {
   "cell_type": "code",
   "execution_count": null,
   "id": "f5a8330c-a406-4a25-86b8-51d1f6de0b7e",
   "metadata": {},
   "outputs": [],
   "source": [
    "import numpy as np\n",
    "import matplotlib.pyplot as plt\n",
    "from planktos import swarm\n",
    "from planktos.geom import seg_intersect_2D_multilinear_poly as seg_intersect\n",
    "\n",
    "# Create a function that will plot the geometry\n",
    "def plot_it(startpt, endpt, start_mesh, end_mesh, intersection, finalendpt, t_crit=None, newstartpt=None, newendpt=None):\n",
    "    # unpack intersection\n",
    "    x = intersection[0]    # (x,y) coordinates of intersection\n",
    "    t_I = intersection[1]  # btwn 0 & 1, fraction of movement traveled so far\n",
    "    Q0 = intersection[2]   # edge of mesh element at time of intersection\n",
    "    Q1 = intersection[3]   # edge of mesh element at time of intersection\n",
    "    idx = intersection[4]  # index into close_mesh_start/end above\n",
    "    \n",
    "    # plot start and end position of mesh\n",
    "    plt.plot(start_mesh[:,:,0].flatten(), start_mesh[:,:,1].flatten(), 'o-', color='lightgrey', label='startmesh')\n",
    "    plt.plot(end_mesh[:,:,0].flatten(), end_mesh[:,:,1].flatten(), 'o-', color='black', label='endmesh')\n",
    "    # plot original start and end position of agent\n",
    "    plt.plot((startpt[0], endpt[0]), (startpt[1], endpt[1]), 'o-', label='orig trajectory')\n",
    "    # plot element that was intersected at time of intersection\n",
    "    plt.plot((Q0[0], Q1[0]), (Q0[1], Q1[1]), label='element at intersection')\n",
    "\n",
    "    # if a critical time is given, plot the relevant mesh element at that time as well\n",
    "    if t_crit is not None:\n",
    "        interp_mesh_el = start_mesh[idx]*(1-t_crit) + end_mesh[idx]*t_crit\n",
    "        plt.plot((interp_mesh_el[0,0],interp_mesh_el[1,0]),(interp_mesh_el[0,1],interp_mesh_el[1,1]), label='element at t_crit')\n",
    "    # if new start and end points are given, plot the new trajectory off the element\n",
    "    if newstartpt is not None:\n",
    "        plt.plot((newstartpt[0], newendpt[0]), (newstartpt[1], newendpt[1]), 'o-', color='goldenrod', label='new trajectory')\n",
    "    \n",
    "    # plot point of intersection\n",
    "    plt.plot(x[0], x[1], 'x', color='black')\n",
    "    # plot final point\n",
    "    plt.plot(finalendpt[0], finalendpt[1], 's', color='black')\n",
    "    "
   ]
  },
  {
   "cell_type": "code",
   "execution_count": null,
   "id": "0b9aa96e-746b-4bf3-bcc6-8d82f8d0351e",
   "metadata": {},
   "outputs": [],
   "source": [
    "# in-line mesh elements, non-moving\n",
    "start_mesh = np.array([\n",
    "    [[1,0], [1,1]],\n",
    "    [[1,1], [1,2]]\n",
    "])\n",
    "end_mesh = np.array([\n",
    "    [[1,0], [1,1]],\n",
    "    [[1,1], [1,2]]\n",
    "])\n",
    "startpt = np.array([0,0.5])\n",
    "endpt = np.array([2,0.5])\n",
    "\n",
    "# get intersection, project_and_slide\n",
    "intersection = seg_intersect(startpt, endpt, start_mesh[:,0,:], start_mesh[:,1,:], end_mesh[:,0,:], end_mesh[:,1,:])\n",
    "finalendpt = swarm._project_and_slide_moving(startpt, endpt, intersection, start_mesh, end_mesh, start_mesh, end_mesh, 10, 10)"
   ]
  },
  {
   "cell_type": "code",
   "execution_count": null,
   "id": "5dfd92ab-9897-486e-b35a-b7c664e21412",
   "metadata": {},
   "outputs": [],
   "source": [
    "plot_it(startpt, endpt, start_mesh, end_mesh, intersection, finalendpt)"
   ]
  },
  {
   "cell_type": "code",
   "execution_count": null,
   "id": "8314ce8c-ab42-424a-bcde-6706ff9fe274",
   "metadata": {},
   "outputs": [],
   "source": []
  }
 ],
 "metadata": {
  "kernelspec": {
   "display_name": "Python 3 (ipykernel)",
   "language": "python",
   "name": "python3"
  },
  "language_info": {
   "codemirror_mode": {
    "name": "ipython",
    "version": 3
   },
   "file_extension": ".py",
   "mimetype": "text/x-python",
   "name": "python",
   "nbconvert_exporter": "python",
   "pygments_lexer": "ipython3",
   "version": "3.10.14"
  }
 },
 "nbformat": 4,
 "nbformat_minor": 5
}
